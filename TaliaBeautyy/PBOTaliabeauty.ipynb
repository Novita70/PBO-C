{
 "cells": [
  {
   "cell_type": "code",
   "execution_count": 8,
   "metadata": {},
   "outputs": [
    {
     "name": "stdout",
     "output_type": "stream",
     "text": [
      "Selamat datang di TALIABEAUTY\n",
      "(Masukkan menu dengan menginputkan angka)\n",
      "1. Login\n",
      "2. Register\n",
      "3. Reservasi\n",
      "4. Historis\n",
      "5. Akun\n",
      "6. Exit\n"
     ]
    },
    {
     "name": "stdin",
     "output_type": "stream",
     "text": [
      "Menu > 1\n"
     ]
    },
    {
     "name": "stdout",
     "output_type": "stream",
     "text": [
      "------Login------\n"
     ]
    },
    {
     "name": "stdin",
     "output_type": "stream",
     "text": [
      "Masukkan email: taliabeauty@gmail.com\n",
      "Masukkan password: talia\n"
     ]
    },
    {
     "name": "stdout",
     "output_type": "stream",
     "text": [
      "Login berhasil\n",
      "Selamat datang Owner Talia di TALIABEAUTY!\n",
      "1. Login\n",
      "2. Register\n",
      "3. Reservasi\n",
      "4. Historis\n",
      "5. Akun\n",
      "6. Exit\n"
     ]
    },
    {
     "name": "stdin",
     "output_type": "stream",
     "text": [
      "Menu > 4\n"
     ]
    },
    {
     "name": "stdout",
     "output_type": "stream",
     "text": [
      "------Historis------\n",
      "Riwayat pemesanan Owner Talia:\n",
      "2020-12-18 Silver Facial, Jumlah: 1, Harga: Rp200,000, Total: Rp200,000\n",
      "2020-12-18 Green Tea Extract, Jumlah: 4, Harga: Rp250,000, Total: Rp1,000,000\n",
      "Total keseluruhan: Rp1,200,000\n",
      "1. Login\n",
      "2. Register\n",
      "3. Reservasi\n",
      "4. Historis\n",
      "5. Akun\n",
      "6. Exit\n"
     ]
    },
    {
     "name": "stdin",
     "output_type": "stream",
     "text": [
      "Menu > 5\n"
     ]
    },
    {
     "name": "stdout",
     "output_type": "stream",
     "text": [
      "------Akun------\n",
      "email: taliabeauty@gmail.com\n",
      "password: talia\n",
      "username: Owner Talia\n",
      "tanggal lahir: 21 Juni 2000\n",
      "1. Login\n",
      "2. Register\n",
      "3. Reservasi\n",
      "4. Historis\n",
      "5. Akun\n",
      "6. Exit\n"
     ]
    },
    {
     "name": "stdin",
     "output_type": "stream",
     "text": [
      "Menu > 3\n"
     ]
    },
    {
     "name": "stdout",
     "output_type": "stream",
     "text": [
      "------Reservasi------\n",
      "1. Perawatan\n",
      "2. Beli produk\n",
      "3. Konsultasi\n"
     ]
    },
    {
     "name": "stdin",
     "output_type": "stream",
     "text": [
      "Menu Reservasi: 3\n"
     ]
    },
    {
     "name": "stdout",
     "output_type": "stream",
     "text": [
      "Konsultasi masalah kecantikan:\n",
      "1. Bagaimana mengatasi mata panda?\n",
      "2. Bagaimana mengatasi pori-pori di wajah?\n",
      "3. Bagaimana menghilangkan bekas jerawat?\n"
     ]
    },
    {
     "name": "stdin",
     "output_type": "stream",
     "text": [
      "nomor pertanyaan > 1\n"
     ]
    },
    {
     "name": "stdout",
     "output_type": "stream",
     "text": [
      "Jawab: Ada beberapa cara menghilangkannya, seperti firming, brightening eye creams\n",
      "dan teknik facial massage.\n",
      "1. Login\n",
      "2. Register\n",
      "3. Reservasi\n",
      "4. Historis\n",
      "5. Akun\n",
      "6. Exit\n"
     ]
    },
    {
     "name": "stdin",
     "output_type": "stream",
     "text": [
      "Menu > 3\n"
     ]
    },
    {
     "name": "stdout",
     "output_type": "stream",
     "text": [
      "------Reservasi------\n",
      "1. Perawatan\n",
      "2. Beli produk\n",
      "3. Konsultasi\n"
     ]
    },
    {
     "name": "stdin",
     "output_type": "stream",
     "text": [
      "Menu Reservasi: 3\n"
     ]
    },
    {
     "name": "stdout",
     "output_type": "stream",
     "text": [
      "Konsultasi masalah kecantikan:\n",
      "1. Bagaimana mengatasi mata panda?\n",
      "2. Bagaimana mengatasi pori-pori di wajah?\n",
      "3. Bagaimana menghilangkan bekas jerawat?\n"
     ]
    },
    {
     "name": "stdin",
     "output_type": "stream",
     "text": [
      "nomor pertanyaan > 2\n"
     ]
    },
    {
     "name": "stdout",
     "output_type": "stream",
     "text": [
      "Menurut para dermatologis, diameter pori-pori seseorang tida bisa benar-benar menyusut.\n",
      "Meskipun demikian, penampakannya bisa diminimalisasi dengan menggunakan produk tertentu.\n",
      "Selain itu, memakai skincare secara rutin juga bisa menjadi salah satu cara ampuhnya.\n",
      "1. Login\n",
      "2. Register\n",
      "3. Reservasi\n",
      "4. Historis\n",
      "5. Akun\n",
      "6. Exit\n"
     ]
    },
    {
     "name": "stdin",
     "output_type": "stream",
     "text": [
      "Menu > 6\n"
     ]
    },
    {
     "name": "stdout",
     "output_type": "stream",
     "text": [
      "------Selamat Tinggal------\n",
      "Terima kasih telah mengunjungi TALIABEAUTY\n"
     ]
    }
   ],
   "source": [
    "import sqlite3\n",
    "#import pathlib untuk mendapatkan direktori file\n",
    "import pathlib\n",
    "#import datetime untuk modul mendapatkan tanggal saat ini\n",
    "import datetime\n",
    "\n",
    "#Class untuk meng-handle query sql\n",
    "class DataManager:\n",
    "    def __init__(self):\n",
    "        #formula mendapatkan directori database yg disimpan ke variable berupa string\n",
    "        database = str(pathlib.Path().absolute())+\"\\Taliabeauty.db\"\n",
    "        #melakukan koneksi pada database\n",
    "        self.connector = sqlite3.connect(database)\n",
    "        #inisiasi fungsi cursor database, sehingga dapat menjalankan fungsi query lainnya\n",
    "        self.cursor = self.connector.cursor()\n",
    "        \n",
    "    #fungsi untuk menjalankan query dan menerima return value atau tidak\n",
    "    def executeQuery(self, query, retVal=False):\n",
    "        #menjalankan perintah query\n",
    "        self.cursor.execute(query)\n",
    "        #menyimpan hasil query ke dalam variable\n",
    "        all_results = self.cursor.fetchall()\n",
    "        #mengkonfir1masi perintah query\n",
    "        self.connector.commit()\n",
    "        #retVal dipakai kalau def executeQuery perlu mengembalikan nilai atau tidak\n",
    "        if retVal:\n",
    "            return all_results\n",
    "\n",
    "#Class untuk meng-handle login, meng-inherit dari class DataManager\n",
    "class User(DataManager):\n",
    "    def __init__(self):\n",
    "        #menginisiasi atribut DataManager, supaya dapat digunakan dalam class User\n",
    "        DataManager.__init__(self)\n",
    "        #beberapa data yang disimpan dalam code yang nantinya juga mengambil data dari query database\n",
    "        self.id_user = None\n",
    "        self.email = None\n",
    "        self.password = None\n",
    "        self.username = None\n",
    "        self.tanggal_lahir = None\n",
    "        self.total = 0\n",
    "        self.historis_list = []\n",
    "        \n",
    "    def login(self, email, password):\n",
    "        #SELECT untuk mendapatkan variabel2 tertera\n",
    "        query = 'SELECT id_user, email, password, username, tanggal_lahir FROM user_data \\\n",
    "            where email=\\'%s\\' and password=\\'%s\\' '\n",
    "        #memasukkan Value (%s itu diatas) ke dalam query dari program\n",
    "        query = query % (email, password)\n",
    "        #menjalankan function executeQuery yg memiliki nilai retVal True sehingga mengembalikan suatu nilai\n",
    "        #yang lalu nilai tersebut ditampung di dalam variabel data_login dalam bentuk list/array\n",
    "        data_login = self.executeQuery(query, True)\n",
    "        konfirm_login = False\n",
    "        #mengambil satu2 nilai dari data_login (karena berbentuk array)\n",
    "        for i in range(0,len(data_login)):\n",
    "            #mengecek jika data input email dan password terdapat di dalam data_login\n",
    "            if email == data_login[i][1] and password == data_login[i][2]:\n",
    "                konfirm_login = True\n",
    "                self.id_user = data_login[i][0]\n",
    "                self.email = data_login[i][1]\n",
    "                self.password = data_login[i][2]\n",
    "                self.username = data_login[i][3]\n",
    "                self.tanggal_lahir = data_login[i][4]\n",
    "                print(\"Login berhasil\")\n",
    "                print(f\"Selamat datang {self.username} di TALIABEAUTY!\")\n",
    "        if konfirm_login == False:\n",
    "            print(f\"Data Login email {email}, password {password} tidak ditemukan, harap untuk melakukan register\")\n",
    "\n",
    "    def register(self, email, password, username, tanggal_lahir):\n",
    "        #INSERT INTO untuk memasukkan data ke dalam tabel query\n",
    "        query = 'INSERT INTO user_data (email, password, username, tanggal_lahir) \\\n",
    "                VALUES (\\'%s\\', \\'%s\\', \\'%s\\', \\'%s\\')'\n",
    "        #mendapatkan Value untuk dimasukkan data ke dalam tabel query\n",
    "        query = query % (email, password, username, tanggal_lahir)\n",
    "        self.executeQuery(query)\n",
    "        #SELECT untuk mengambil data2 variabel tertera dari tabel query\n",
    "        query = 'SELECT id_user, email, password FROM user_data \\\n",
    "            where email=\\'%s\\' and password=\\'%s\\' '\n",
    "        query = query % (email, password)\n",
    "        data_login = self.executeQuery(query, True)\n",
    "        #mengambil id_user dari data_login dengan email dan password yg sesuai\n",
    "        for i in range(0,len(data_login)):\n",
    "            if email == data_login[i][1] and password == data_login[i][2]:\n",
    "                self.id_user = data_login[i][0]\n",
    "        #mengubah data sesuai inputan register\n",
    "        self.email = email\n",
    "        self.password = password\n",
    "        self.username = username\n",
    "        self.tanggal_lahir = tanggal_lahir\n",
    "        print(f\"Akun berhasil dibuat. Selamat datang {self.username} di TALIABEAUTY!\")\n",
    "        \n",
    "    def daftar_perawatan(self):\n",
    "        print(\"Daftar perawatan:\")\n",
    "        print(\"1. Green Tea Facial (Rp. 150.000)\")\n",
    "        print(\"2. Silver Facial (Rp. 200.000)\")\n",
    "        \n",
    "    def daftar_produk(self):\n",
    "        print(\"1. Green Tea Extract Bundle (Rp. 250.000)\")\n",
    "        print('2. Green Tea Extract Facial Wash (Rp. 50.000)')\n",
    "        print('3. Green Tea Extract Facial Cleanser (Rp. 50.000)')\n",
    "        print('4. Green Tea Extract Toner (Rp. 50.000)')\n",
    "        print('5. Green Tea Extract Night Cream (Rp. 50.000)')\n",
    "        print('6. Green Tea Extract Day Cream (Rp. 50.000)')\n",
    "        \n",
    "    def reservasi(self, jenis_reservasi, nomor, jumlah=1):\n",
    "        #Bentuk data produk dalam variabel array, nomor pertama adalah id produk, kedua nama, dan ketiga harga\n",
    "        perawatan_1 = ['rawat1', 'Green Tea Facial', 150_000]\n",
    "        perawatan_2 = ['rawat2', 'Silver Facial', 200_000]\n",
    "        produk_1 = ['produk1', 'Green Tea Extract', 250_000]\n",
    "        produk_2 = ['produk2', 'Green Tea Extract Facial Wash', 50_000]\n",
    "        produk_3 = ['produk3', 'Green Tea Extract Facial Cleanser', 50_000]\n",
    "        produk_4 = ['produk4', 'Green Tea Extract Toner', 50_000]\n",
    "        produk_5 = ['produk5', 'Green Tea Extract Night Cream', 50_000]\n",
    "        produk_6 = ['produk6', 'Green Tea Extract Day Cream', 50_000]\n",
    "        \n",
    "        #menyiapkan tanggal dan perintah query\n",
    "        tanggal_pemesanan = datetime.datetime.today().strftime('%Y-%m-%d')\n",
    "        query = 'INSERT INTO tb_transaksi (id_user, id_barang, nama_barang, jumlah_barang, harga_satuan_barang, tanggal_pemesanan) \\\n",
    "                VALUES (\\'%s\\', \\'%s\\', \\'%s\\', \\'%s\\', \\'%s\\', \\'%s\\')'\n",
    "        \n",
    "        #mengecek jenis reservasi, 1 == perawatan, 2 == beli produk, 3 == konsultasi\n",
    "        #mengecek nomor sesuai dengan yang ada di daftar_produk() dan daftar_perawatan()\n",
    "        if jenis_reservasi == '1' and nomor == '1':\n",
    "            query = query % (self.id_user, perawatan_1[0], perawatan_1[1], jumlah, perawatan_1[2], tanggal_pemesanan)\n",
    "            print(f\"{self.username} telah memesan perawatan Green Tea Facial\")\n",
    "            \n",
    "        elif jenis_reservasi == '1' and nomor == '2':\n",
    "            query = query % (self.id_user, perawatan_2[0], perawatan_2[1], jumlah, perawatan_2[2], tanggal_pemesanan)\n",
    "            print(f\"{self.username} telah memesan perawatan Silver Facial\")\n",
    "            \n",
    "        elif jenis_reservasi == '2' and nomor == '1':\n",
    "            query = query % (self.id_user, produk_1[0], produk_1[1], jumlah, produk_1[2], tanggal_pemesanan)\n",
    "            print(f\"{self.username} telah memesan produk Green Tea Extract sebanyak {jumlah}\")\n",
    "            \n",
    "        elif jenis_reservasi == '2' and nomor == '2':\n",
    "            query = query % (self.id_user, produk_2[0], produk_2[1], jumlah, produk_2[2], tanggal_pemesanan)\n",
    "            print(f\"{self.username} telah memesan produk Green Tea Extract Facial Wash sebanyak {jumlah}\")\n",
    "            \n",
    "        elif jenis_reservasi == '2' and nomor == '3':\n",
    "            query = query % (self.id_user, produk_3[0], produk_3[1], jumlah, produk_3[2], tanggal_pemesanan)\n",
    "            print(f\"{self.username} telah memesan produk Green Tea Extract Facial Cleaner sebanyak {jumlah}\")\n",
    "            \n",
    "        elif jenis_reservasi == '2' and nomor == '4':\n",
    "            query = query % (self.id_user, produk_4[0], produk_4[1], jumlah, produk_4[2], tanggal_pemesanan)\n",
    "            print(f\"{self.username} telah memesan produk Green Tea Extract Toner sebanyak {jumlah}\")\n",
    "            \n",
    "        elif jenis_reservasi == '2' and nomor == '5':\n",
    "            query = query % (self.id_user, produk_5[0], produk_5[1], jumlah, produk_5[2], tanggal_pemesanan)\n",
    "            print(f\"{self.username} telah memesan produk Green Tea Extract Night Cream sebanyak {jumlah}\")\n",
    "            \n",
    "        elif jenis_reservasi == '2' and nomor == '6':\n",
    "            query = query % (self.id_user, produk_6[0], produk_6[1], jumlah, produk_6[2], tanggal_pemesanan)\n",
    "            print(f\"{self.username} telah memesan produk Green Tea Extract Day Cream sebanyak {jumlah}\")\n",
    "            \n",
    "        self.executeQuery(query)\n",
    "        \n",
    "    def historis(self):\n",
    "        query = 'SELECT trans.tanggal_pemesanan, user.username, trans.nama_barang, trans.jumlah_barang, trans.harga_satuan_barang \\\n",
    "            FROM tb_transaksi trans \\\n",
    "            JOIN user_data user on trans.id_user = user.id_user'\n",
    "        #data hasil query disimpan di dalam variabel data_transaksi\n",
    "        data_transaksi = self.executeQuery(query, True)\n",
    "        print(f\"Riwayat pemesanan {self.username}:\")\n",
    "        total_seluruh = 0\n",
    "        #mengambil data dari variabel data_transaksi\n",
    "        for i in data_transaksi:\n",
    "            #pada indeks ke-3 dan ke-4 dari variabel array i masing-masing adalah jumlah_barang dan harga satuan\n",
    "            #indeks ke-3 dan ke-4 dikalikan untuk mendapatkan total harga, lalu += untuk menambahkan\n",
    "            #harga total di tiap perulangan menjadi total keseluruhan\n",
    "            total_seluruh += i[3]*i[4]\n",
    "            #indeks ke-0 adalah tanggal_pemesanan, indeks ke-1 adalah username ... (sesuai query Line 157)\n",
    "            print(f\"{i[0]} {i[2]}, Jumlah: {i[3]}, Harga: Rp{i[4]:,}, Total: Rp{(i[3]*i[4]):,}\")\n",
    "        print(f\"Total keseluruhan: Rp{total_seluruh:,}\")\n",
    "                \n",
    "    def akun(self):\n",
    "        print(f\"email: {self.email}\\npassword: {self.password}\\nusername: {self.username}\\ntanggal lahir: {self.tanggal_lahir}\")\n",
    "\n",
    "#menginisiasi (Instantiate) pembuatan objek user\n",
    "u = User()\n",
    "print(\"Selamat datang di TALIABEAUTY\")\n",
    "print(\"(Masukkan menu dengan menginputkan angka)\")\n",
    "\n",
    "#memulai menerima inputan dari user\n",
    "while True:\n",
    "    print(\"1. Login\\n2. Register\\n3. Reservasi\\n4. Historis\\n5. Akun\\n6. Exit\")\n",
    "    #lower() dipakai supaya inputan menjadi huruf kecil semua (lowercase)\n",
    "    menu = input(\"Menu >\").lower()\n",
    "    \n",
    "    #menu Login\n",
    "    if menu == '1':\n",
    "        print(\"------Login------\")\n",
    "        email = input(\"Masukkan email:\")\n",
    "        password = input(\"Masukkan password:\")\n",
    "        u.login(email,password)\n",
    "        \n",
    "    #menu Register\n",
    "    elif menu == '2':\n",
    "        print(\"------Register------\")\n",
    "        email = input(\"Masukkan email:\")\n",
    "        password = input(\"Masukkan password:\")\n",
    "        username = input(\"Masukkan username:\")\n",
    "        tanggal_lahir = input(\"Masukkan tamggal lahir (ex. 26 Juli 2001):\")\n",
    "        u.register(email, password, username, tanggal_lahir)\n",
    "        \n",
    "    #menu Reservasi\n",
    "    elif menu == '3':\n",
    "        print(\"------Reservasi------\")\n",
    "        #if u.username != None mengecek jika sudah ada login yg dilakukan (karena awal program, username bernilai\n",
    "        #bernilai 'None' yang berarti belum ada data login\n",
    "        if u.username != None:\n",
    "            print(\"1. Perawatan\\n2. Beli produk\\n3. Konsultasi\")\n",
    "            jenis_reservasi = input(\"Menu Reservasi:\")\n",
    "            \n",
    "            if jenis_reservasi == '1':\n",
    "                u.daftar_perawatan()\n",
    "                nomor = input(\"Pilih nomor perawatan:\")\n",
    "                u.reservasi(jenis_reservasi, nomor)\n",
    "                \n",
    "            elif jenis_reservasi == '2':\n",
    "                u.daftar_produk()\n",
    "                nomor = input(\"Pilih nomor produk:\")\n",
    "                jumlah = int(input(\"Jumlah produk dibeli:\"))\n",
    "                u.reservasi(jenis_reservasi, nomor, jumlah)\n",
    "                \n",
    "            elif jenis_reservasi == '3':\n",
    "                print(\"Konsultasi masalah kecantikan:\")\n",
    "                print(\"1. Bagaimana mengatasi mata panda?\")\n",
    "                print(\"2. Bagaimana mengatasi pori-pori di wajah?\")\n",
    "                print(\"3. Bagaimana menghilangkan bekas jerawat?\")\n",
    "                tanya = input(\"nomor pertanyaan >\")\n",
    "                if tanya == '1':\n",
    "                    print(\"Jawab: Ada beberapa cara menghilangkannya, seperti firming, brightening eye creams\\ndan teknik facial massage.\")\n",
    "                elif tanya == '2':\n",
    "                    print(\"Jawab: Menurut para dermatologis, diameter pori-pori seseorang tida bisa benar-benar menyusut.\\nMeskipun demikian, penampakannya bisa diminimalisasi dengan menggunakan produk tertentu.\\nSelain itu, memakai skincare secara rutin juga bisa menjadi salah satu cara ampuhnya.\")\n",
    "                elif tanya == '3':\n",
    "                    print(\"Jawab: Salah satu perawatan yang sedang populer, yakni chemical peels, yang mengexfoliate lapisan\\natas kulit agar terlihat lebih halus.\")\n",
    "                else:\n",
    "                    print(\"Pilih dengan memasukkan angka menu\")\n",
    "                    \n",
    "            else:\n",
    "                print(\"Pilih dengan memasukkan angka menu\")\n",
    "        else:\n",
    "            print(\"Diperlukan Login terlebih dahulu\")\n",
    "            \n",
    "    #menu Historis\n",
    "    elif menu == '4':\n",
    "        print(\"------Historis------\")\n",
    "        if u.username != None:\n",
    "            u.historis()\n",
    "        else:\n",
    "            print(\"Diperlukan Login terlebih dahulu\")\n",
    "        \n",
    "    #menu Akun\n",
    "    elif menu == '5':\n",
    "        print(\"------Akun------\")\n",
    "        u.akun()\n",
    "        \n",
    "    #menu Exit\n",
    "    elif menu == '6':\n",
    "        print(\"------Selamat Tinggal------\")\n",
    "        print(\"Terima kasih telah mengunjungi TALIABEAUTY\")\n",
    "        break\n",
    "        \n",
    "    #daftar menu\n",
    "    elif menu == 'menu':\n",
    "        print(\"(Masukkan menu dengan menginputkan angka)\")\n",
    "        print(\"1. Login\\n2. Register\\n3. Historis\\n4. Reservasi\\n5. Akun\\n6. Exit\")\n",
    "        \n",
    "    #ketika input menu tidak diketahui\n",
    "    else:\n",
    "        print(\"ketik menu untuk melihat daftar menu\")"
   ]
  },
  {
   "cell_type": "code",
   "execution_count": null,
   "metadata": {},
   "outputs": [],
   "source": []
  }
 ],
 "metadata": {
  "kernelspec": {
   "display_name": "Python 3",
   "language": "python",
   "name": "python3"
  },
  "language_info": {
   "codemirror_mode": {
    "name": "ipython",
    "version": 3
   },
   "file_extension": ".py",
   "mimetype": "text/x-python",
   "name": "python",
   "nbconvert_exporter": "python",
   "pygments_lexer": "ipython3",
   "version": "3.7.3"
  }
 },
 "nbformat": 4,
 "nbformat_minor": 4
}
